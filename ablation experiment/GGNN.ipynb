{
 "cells": [
  {
   "metadata": {
    "ExecuteTime": {
     "end_time": "2024-09-09T14:35:16.872208Z",
     "start_time": "2024-09-09T14:35:16.809520Z"
    }
   },
   "cell_type": "code",
   "source": [
    "import torch\n",
    "import torch.nn as nn\n",
    "import torch.optim as optim\n",
    "import re\n",
    "from sklearn.preprocessing import LabelEncoder\n",
    "from sklearn.metrics import accuracy_score, f1_score\n",
    "\n",
    "# 读取数据，第一行为文本，第二行为标签\n",
    "def load_data(filename):\n",
    "    texts = []\n",
    "    labels = []\n",
    "    with open(filename, 'r', encoding='utf-8') as f:\n",
    "        lines = f.readlines()\n",
    "        for i in range(0, len(lines), 2):  # 每两行一起处理\n",
    "            text = lines[i].strip()\n",
    "            label = lines[i+1].strip()\n",
    "            try:\n",
    "                labels.append(int(label))  # 尝试将标签转换为整数\n",
    "                texts.append(text)\n",
    "            except ValueError:\n",
    "                print(f\"Skipping invalid label: {label}\")\n",
    "    return texts, labels\n",
    "\n",
    "# 文本分词\n",
    "def tokenize(text):\n",
    "    return re.findall(r'\\w+', text.lower())\n",
    "\n",
    "# 构建词汇表\n",
    "def build_vocab(texts):\n",
    "    vocab = {}\n",
    "    idx = 0\n",
    "    for text in texts:\n",
    "        tokens = tokenize(text)\n",
    "        for token in tokens:\n",
    "            if token not in vocab:\n",
    "                vocab[token] = idx\n",
    "                idx += 1\n",
    "    return vocab\n",
    "\n",
    "# 将文本转换为特征向量\n",
    "def text_to_features(texts, vocab):\n",
    "    features = []\n",
    "    for text in texts:\n",
    "        tokens = tokenize(text)\n",
    "        token_ids = [vocab.get(token, -1) for token in tokens if token in vocab]\n",
    "        features.append(token_ids)\n",
    "    return features\n",
    "\n",
    "# 填充序列\n",
    "def pad_sequences(sequences, maxlen):\n",
    "    return torch.tensor([seq + [0] * (maxlen - len(seq)) for seq in sequences])\n",
    "\n",
    "# 加载训练和测试数据\n",
    "train_texts, train_labels = load_data('train.txt')\n",
    "test_texts, test_labels = load_data('test.txt')\n",
    "\n",
    "# 构建词汇表\n",
    "vocab = build_vocab(train_texts)\n",
    "\n",
    "# 将文本转换为特征\n",
    "train_features = text_to_features(train_texts, vocab)\n",
    "test_features = text_to_features(test_texts, vocab)\n",
    "\n",
    "# 标签编码\n",
    "le = LabelEncoder()\n",
    "train_labels = torch.tensor(le.fit_transform(train_labels))\n",
    "test_labels = torch.tensor(le.transform(test_labels))\n",
    "\n",
    "# 确定最大序列长度并填充\n",
    "maxlen = max(max(len(seq) for seq in train_features), max(len(seq) for seq in test_features))\n",
    "train_features = pad_sequences(train_features, maxlen)\n",
    "test_features = pad_sequences(test_features, maxlen)"
   ],
   "id": "c98ca38c27222c7d",
   "outputs": [],
   "execution_count": 19
  },
  {
   "metadata": {
    "ExecuteTime": {
     "end_time": "2024-09-09T14:35:16.879535Z",
     "start_time": "2024-09-09T14:35:16.874233Z"
    }
   },
   "cell_type": "code",
   "source": [
    "class GGNN(nn.Module):\n",
    "    def __init__(self, vocab_size, embed_size, hidden_size, num_classes):\n",
    "        super(GGNN, self).__init__()\n",
    "        self.embedding = nn.Embedding(vocab_size, embed_size)\n",
    "        self.gru = nn.GRU(embed_size, hidden_size, batch_first=True)\n",
    "        self.fc = nn.Linear(hidden_size, num_classes)\n",
    "\n",
    "    def forward(self, x):\n",
    "        embedded = self.embedding(x)  # 词嵌入\n",
    "        output, hidden = self.gru(embedded)  # GRU更新节点表示\n",
    "        hidden = hidden.squeeze(0)\n",
    "        return self.fc(hidden)\n"
   ],
   "id": "7346dd67db546d94",
   "outputs": [],
   "execution_count": 20
  },
  {
   "metadata": {
    "ExecuteTime": {
     "end_time": "2024-09-09T14:35:16.889462Z",
     "start_time": "2024-09-09T14:35:16.880541Z"
    }
   },
   "cell_type": "code",
   "source": [
    "# 训练模型\n",
    "def train_model(model, train_features, train_labels, epochs=20, batch_size=32):\n",
    "    model.train()\n",
    "    for epoch in range(epochs):\n",
    "        total_loss = 0\n",
    "        for i in range(0, len(train_features), batch_size):\n",
    "            batch_features = train_features[i:i+batch_size]\n",
    "            batch_labels = train_labels[i:i+batch_size]\n",
    "            \n",
    "            optimizer.zero_grad()\n",
    "            output = model(batch_features)\n",
    "            loss = loss_fn(output, batch_labels)\n",
    "            loss.backward()\n",
    "            optimizer.step()\n",
    "            \n",
    "            # 计算损失\n",
    "            total_loss += loss.item()\n",
    "            \n",
    "            # 计算每个批次的准确率和F1\n",
    "            preds = torch.argmax(output, dim=1).cpu().numpy()\n",
    "            labels = batch_labels.cpu().numpy()\n",
    "            batch_acc = accuracy_score(labels, preds)\n",
    "            batch_f1 = f1_score(labels, preds, average='macro')\n",
    "            print(f'Epoch {epoch+1}, Batch {i//batch_size+1}: ACC = {batch_acc:.4f}, F1 = {batch_f1:.4f}')\n",
    "        \n",
    "        # 输出每个epoch的平均损失\n",
    "        print(f'Epoch {epoch+1}/{epochs}, Loss: {total_loss / len(train_features):.4f}')\n",
    "\n",
    "\n",
    "# 测试模型\n",
    "def test_model(model, test_features, test_labels, batch_size=32):\n",
    "    model.eval()\n",
    "    all_preds = []\n",
    "    all_labels = []\n",
    "    \n",
    "    with torch.no_grad():\n",
    "        for i in range(0, len(test_features), batch_size):\n",
    "            batch_features = test_features[i:i+batch_size]\n",
    "            batch_labels = test_labels[i:i+batch_size]\n",
    "            \n",
    "            output = model(batch_features)\n",
    "            preds = torch.argmax(output, dim=1).cpu().numpy()\n",
    "            labels = batch_labels.cpu().numpy()\n",
    "            all_preds.extend(preds)\n",
    "            all_labels.extend(labels)\n",
    "            \n",
    "            # 打印每个批次的准确率和F1\n",
    "            batch_acc = accuracy_score(labels, preds)\n",
    "            batch_f1 = f1_score(labels, preds, average='macro')\n",
    "            print(f'Batch {i//batch_size+1}: ACC = {batch_acc:.4f}, F1 = {batch_f1:.4f}')\n",
    "    \n",
    "    # 计算整体测试集的准确率和F1\n",
    "    test_acc = accuracy_score(all_labels, all_preds)\n",
    "    test_f1 = f1_score(all_labels, all_preds, average='macro')\n",
    "    print(f'Test Accuracy: {test_acc:.4f}, F1-score: {test_f1:.4f}')\n"
   ],
   "id": "4deaf6a9ec9b85d7",
   "outputs": [],
   "execution_count": 21
  },
  {
   "metadata": {
    "ExecuteTime": {
     "end_time": "2024-09-09T14:36:22.100481Z",
     "start_time": "2024-09-09T14:35:16.890469Z"
    }
   },
   "cell_type": "code",
   "source": [
    "# 模型参数\n",
    "vocab_size = len(vocab)\n",
    "embed_size = 64\n",
    "hidden_size = 128\n",
    "num_classes = len(set(train_labels.tolist()))\n",
    "\n",
    "# 初始化模型\n",
    "model = GGNN(vocab_size, embed_size, hidden_size, num_classes)\n",
    "\n",
    "# 损失函数和优化器\n",
    "loss_fn = nn.CrossEntropyLoss()\n",
    "optimizer = optim.Adam(model.parameters(), lr=0.001)\n",
    "\n",
    "# 训练模型\n",
    "train_model(model, train_features, train_labels, epochs=20, batch_size=32)\n",
    "\n",
    "# 测试模型\n",
    "test_model(model, test_features, test_labels, batch_size=32)\n"
   ],
   "id": "4bc639d7cb1314b7",
   "outputs": [
    {
     "name": "stdout",
     "output_type": "stream",
     "text": [
     ]
    }
   ],
   "execution_count": 22
  }
 ],
 "metadata": {
  "kernelspec": {
   "display_name": "Python 3",
   "language": "python",
   "name": "python3"
  },
  "language_info": {
   "codemirror_mode": {
    "name": "ipython",
    "version": 2
   },
   "file_extension": ".py",
   "mimetype": "text/x-python",
   "name": "python",
   "nbconvert_exporter": "python",
   "pygments_lexer": "ipython2",
   "version": "2.7.6"
  }
 },
 "nbformat": 4,
 "nbformat_minor": 5
}
