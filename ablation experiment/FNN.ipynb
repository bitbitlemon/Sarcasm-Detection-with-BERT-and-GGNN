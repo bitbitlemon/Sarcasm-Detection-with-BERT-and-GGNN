{
 "cells": [
  {
   "cell_type": "code",
   "id": "initial_id",
   "metadata": {
    "collapsed": true,
    "ExecuteTime": {
     "end_time": "2024-09-09T14:48:21.293569Z",
     "start_time": "2024-09-09T14:48:21.229798Z"
    }
   },
   "source": [
    "import torch\n",
    "import torch.nn as nn\n",
    "import torch.optim as optim\n",
    "import re\n",
    "from sklearn.preprocessing import LabelEncoder\n",
    "from sklearn.metrics import accuracy_score, f1_score\n",
    "\n",
    "# 读取数据，第一行为文本，第二行为标签\n",
    "def load_data(filename):\n",
    "    texts = []\n",
    "    labels = []\n",
    "    with open(filename, 'r', encoding='utf-8') as f:\n",
    "        lines = f.readlines()\n",
    "        for i in range(0, len(lines), 2):  # 每两行一起处理\n",
    "            text = lines[i].strip()\n",
    "            label = lines[i+1].strip()\n",
    "            try:\n",
    "                labels.append(int(label))  # 尝试将标签转换为整数\n",
    "                texts.append(text)\n",
    "            except ValueError:\n",
    "                print(f\"Skipping invalid label: {label}\")\n",
    "    return texts, labels\n",
    "\n",
    "# 文本分词\n",
    "def tokenize(text):\n",
    "    return re.findall(r'\\w+', text.lower())\n",
    "\n",
    "# 构建词汇表\n",
    "def build_vocab(texts):\n",
    "    vocab = {}\n",
    "    idx = 0\n",
    "    for text in texts:\n",
    "        tokens = tokenize(text)\n",
    "        for token in tokens:\n",
    "            if token not in vocab:\n",
    "                vocab[token] = idx\n",
    "                idx += 1\n",
    "    return vocab\n",
    "\n",
    "# 将文本转换为特征向量\n",
    "def text_to_features(texts, vocab):\n",
    "    features = []\n",
    "    for text in texts:\n",
    "        tokens = tokenize(text)\n",
    "        token_ids = [vocab.get(token, -1) for token in tokens if token in vocab]\n",
    "        features.append(token_ids)\n",
    "    return features\n",
    "\n",
    "# 填充序列\n",
    "def pad_sequences(sequences, maxlen):\n",
    "    return torch.tensor([seq + [0] * (maxlen - len(seq)) for seq in sequences])\n",
    "\n",
    "# 加载训练和测试数据\n",
    "train_texts, train_labels = load_data('train.txt')\n",
    "test_texts, test_labels = load_data('test.txt')\n",
    "\n",
    "# 构建词汇表\n",
    "vocab = build_vocab(train_texts)\n",
    "\n",
    "# 将文本转换为特征\n",
    "train_features = text_to_features(train_texts, vocab)\n",
    "test_features = text_to_features(test_texts, vocab)\n",
    "\n",
    "# 标签编码\n",
    "le = LabelEncoder()\n",
    "train_labels = torch.tensor(le.fit_transform(train_labels))\n",
    "test_labels = torch.tensor(le.transform(test_labels))\n",
    "\n",
    "# 确定最大序列长度并填充\n",
    "maxlen = max(max(len(seq) for seq in train_features), max(len(seq) for seq in test_features))\n",
    "train_features = pad_sequences(train_features, maxlen)\n",
    "test_features = pad_sequences(test_features, maxlen)\n"
   ],
   "outputs": [],
   "execution_count": 5
  },
  {
   "metadata": {
    "ExecuteTime": {
     "end_time": "2024-09-09T14:48:21.300422Z",
     "start_time": "2024-09-09T14:48:21.295573Z"
    }
   },
   "cell_type": "code",
   "source": [
    "class SimpleNN(nn.Module):\n",
    "    def __init__(self, vocab_size, embed_size, hidden_size, num_classes):\n",
    "        super(SimpleNN, self).__init__()\n",
    "        self.embedding = nn.Embedding(vocab_size, embed_size)  # 嵌入层\n",
    "        self.model = nn.Sequential(\n",
    "            nn.Linear(embed_size * maxlen, hidden_size),  # 全连接层1\n",
    "            nn.ReLU(),                                   # 激活函数\n",
    "            nn.Linear(hidden_size, num_classes)           # 全连接层2（输出层）\n",
    "        )\n",
    "\n",
    "    def forward(self, x):\n",
    "        embedded = self.embedding(x)  # 词嵌入\n",
    "        embedded = embedded.view(embedded.size(0), -1)  # 展平成平面结构\n",
    "        output = self.model(embedded)  # 使用 Sequential 定义的层\n",
    "        return output\n"
   ],
   "id": "2f2b60102a4c6018",
   "outputs": [],
   "execution_count": 6
  },
  {
   "metadata": {
    "ExecuteTime": {
     "end_time": "2024-09-09T14:48:21.310534Z",
     "start_time": "2024-09-09T14:48:21.302433Z"
    }
   },
   "cell_type": "code",
   "source": [
    "# 训练模型\n",
    "def train_model(model, train_features, train_labels, epochs=10, batch_size=32):\n",
    "    model.train()\n",
    "    for epoch in range(epochs):\n",
    "        total_loss = 0\n",
    "        all_preds = []\n",
    "        all_labels = []\n",
    "        for i in range(0, len(train_features), batch_size):\n",
    "            batch_features = train_features[i:i+batch_size]\n",
    "            batch_labels = train_labels[i:i+batch_size]\n",
    "            \n",
    "            optimizer.zero_grad()\n",
    "            output = model(batch_features)\n",
    "            loss = loss_fn(output, batch_labels)\n",
    "            loss.backward()\n",
    "            optimizer.step()\n",
    "            \n",
    "            total_loss += loss.item()\n",
    "            \n",
    "            # 收集每个批次的预测和标签用于后续的F1计算\n",
    "            preds = torch.argmax(output, dim=1).cpu().numpy()\n",
    "            labels = batch_labels.cpu().numpy()\n",
    "            all_preds.extend(preds)\n",
    "            all_labels.extend(labels)\n",
    "        \n",
    "        # 计算并输出整个epoch的准确率和F1值\n",
    "        epoch_acc = accuracy_score(all_labels, all_preds)\n",
    "        epoch_f1 = f1_score(all_labels, all_preds, average='macro')\n",
    "        print(f'Epoch {epoch+1}/{epochs}, Loss: {total_loss / len(train_features):.4f}, ACC: {epoch_acc:.4f}, F1: {epoch_f1:.4f}')\n",
    "\n",
    "# 测试模型\n",
    "def test_model(model, test_features, test_labels):\n",
    "    model.eval()\n",
    "    all_preds = []\n",
    "    all_labels = []\n",
    "    with torch.no_grad():\n",
    "        output = model(test_features)\n",
    "        preds = torch.argmax(output, dim=1).cpu().numpy()\n",
    "        labels = test_labels.cpu().numpy()\n",
    "        \n",
    "        all_preds.extend(preds)\n",
    "        all_labels.extend(labels)\n",
    "\n",
    "        # 计算准确率和F1-score\n",
    "        test_acc = accuracy_score(all_labels, all_preds)\n",
    "        test_f1 = f1_score(all_labels, all_preds, average='macro')\n",
    "        print(f'Test Accuracy: {test_acc:.4f}, F1-score: {test_f1:.4f}')\n"
   ],
   "id": "60a66164d3f73bc0",
   "outputs": [],
   "execution_count": 7
  },
  {
   "metadata": {
    "ExecuteTime": {
     "end_time": "2024-09-09T14:48:25.546648Z",
     "start_time": "2024-09-09T14:48:21.311539Z"
    }
   },
   "cell_type": "code",
   "source": [
    "# 模型参数\n",
    "vocab_size = len(vocab)\n",
    "embed_size = 64\n",
    "hidden_size = 128\n",
    "num_classes = len(set(train_labels.tolist()))\n",
    "\n",
    "# 初始化模型\n",
    "model = SimpleNN(vocab_size, embed_size, hidden_size, num_classes)\n",
    "\n",
    "# 损失函数和优化器\n",
    "loss_fn = nn.CrossEntropyLoss()\n",
    "optimizer = optim.Adam(model.parameters(), lr=0.001)\n",
    "\n",
    "# 训练模型\n",
    "train_model(model, train_features, train_labels, epochs=10, batch_size=32)\n",
    "\n",
    "# 测试模型\n",
    "test_model(model, test_features, test_labels)\n"
   ],
   "id": "791105d7e462c037",
   "outputs": [
    {
     "name": "stdout",
     "output_type": "stream",
     "text": [
      "Epoch 1/10, Loss: 0.0224, ACC: 0.5500, F1: 0.5489\n",
      "Epoch 2/10, Loss: 0.0193, ACC: 0.6604, F1: 0.6598\n",
      "Epoch 3/10, Loss: 0.0152, ACC: 0.7684, F1: 0.7679\n",
      "Epoch 4/10, Loss: 0.0116, ACC: 0.8384, F1: 0.8382\n",
      "Epoch 5/10, Loss: 0.0085, ACC: 0.8852, F1: 0.8851\n",
      "Epoch 6/10, Loss: 0.0059, ACC: 0.9280, F1: 0.9280\n",
      "Epoch 7/10, Loss: 0.0041, ACC: 0.9568, F1: 0.9568\n",
      "Epoch 8/10, Loss: 0.0039, ACC: 0.9488, F1: 0.9488\n",
      "Epoch 9/10, Loss: 0.0044, ACC: 0.9428, F1: 0.9428\n",
      "Epoch 10/10, Loss: 0.0053, ACC: 0.9336, F1: 0.9336\n",
      "Test Accuracy: 0.7280, F1-score: 0.7245\n"
     ]
    }
   ],
   "execution_count": 8
  }
 ],
 "metadata": {
  "kernelspec": {
   "display_name": "Python 3",
   "language": "python",
   "name": "python3"
  },
  "language_info": {
   "codemirror_mode": {
    "name": "ipython",
    "version": 2
   },
   "file_extension": ".py",
   "mimetype": "text/x-python",
   "name": "python",
   "nbconvert_exporter": "python",
   "pygments_lexer": "ipython2",
   "version": "2.7.6"
  }
 },
 "nbformat": 4,
 "nbformat_minor": 5
}
